{
 "cells": [
  {
   "cell_type": "markdown",
   "source": [
    "## V2X-SIM: Bin"
   ],
   "metadata": {
    "collapsed": false
   }
  },
  {
   "cell_type": "code",
   "execution_count": 7,
   "outputs": [
    {
     "ename": "ValueError",
     "evalue": "Does not understand character buffer dtype format string ('e')",
     "output_type": "error",
     "traceback": [
      "\u001B[0;31m---------------------------------------------------------------------------\u001B[0m",
      "\u001B[0;31mValueError\u001B[0m                                Traceback (most recent call last)",
      "\u001B[0;32m/tmp/ipykernel_32375/4147818268.py\u001B[0m in \u001B[0;36m<module>\u001B[0;34m\u001B[0m\n\u001B[1;32m      2\u001B[0m \u001B[0;34m\u001B[0m\u001B[0m\n\u001B[1;32m      3\u001B[0m \u001B[0mpoint_cloud\u001B[0m\u001B[0;34m[\u001B[0m\u001B[0;34m:\u001B[0m\u001B[0;34m,\u001B[0m \u001B[0;36m3\u001B[0m\u001B[0;34m]\u001B[0m \u001B[0;34m=\u001B[0m \u001B[0;36m255\u001B[0m\u001B[0;34m\u001B[0m\u001B[0;34m\u001B[0m\u001B[0m\n\u001B[0;32m----> 4\u001B[0;31m \u001B[0mcolor_cloud\u001B[0m \u001B[0;34m=\u001B[0m \u001B[0mpcl\u001B[0m\u001B[0;34m.\u001B[0m\u001B[0mPointCloud_PointXYZRGB\u001B[0m\u001B[0;34m(\u001B[0m\u001B[0mpoint_cloud\u001B[0m\u001B[0;34m)\u001B[0m\u001B[0;34m\u001B[0m\u001B[0;34m\u001B[0m\u001B[0m\n\u001B[0m\u001B[1;32m      5\u001B[0m \u001B[0mvisual\u001B[0m \u001B[0;34m=\u001B[0m \u001B[0mpcl\u001B[0m\u001B[0;34m.\u001B[0m\u001B[0mpcl_visualization\u001B[0m\u001B[0;34m.\u001B[0m\u001B[0mCloudViewing\u001B[0m\u001B[0;34m(\u001B[0m\u001B[0;34m)\u001B[0m\u001B[0;34m\u001B[0m\u001B[0;34m\u001B[0m\u001B[0m\n\u001B[1;32m      6\u001B[0m \u001B[0mvisual\u001B[0m\u001B[0;34m.\u001B[0m\u001B[0mShowColorCloud\u001B[0m\u001B[0;34m(\u001B[0m\u001B[0mcolor_cloud\u001B[0m\u001B[0;34m,\u001B[0m \u001B[0;34mb'cloud'\u001B[0m\u001B[0;34m)\u001B[0m\u001B[0;34m\u001B[0m\u001B[0;34m\u001B[0m\u001B[0m\n",
      "\u001B[0;32mpcl/pxi/PointCloud_PointXYZRGB_180.pxi\u001B[0m in \u001B[0;36mpcl._pcl.PointCloud_PointXYZRGB.__cinit__\u001B[0;34m()\u001B[0m\n",
      "\u001B[0;32mpcl/pxi/PointCloud_PointXYZRGB_180.pxi\u001B[0m in \u001B[0;36mpcl._pcl.PointCloud_PointXYZRGB.from_array\u001B[0;34m()\u001B[0m\n",
      "\u001B[0;31mValueError\u001B[0m: Does not understand character buffer dtype format string ('e')"
     ]
    }
   ],
   "source": [
    "import pcl.pcl_visualization\n",
    "import numpy as np\n",
    "point_cloud = np.fromfile(str(\"/media/th/T7-1/dataset/v2x-sim/sweeps/LIDAR_TOP_id_0/scene_1_000006.pcd.bin\"), dtype=np.float32).reshape(-1, 5)[:, :4]\n",
    "\n",
    "point_cloud[:, 3] = 255\n",
    "color_cloud = pcl.PointCloud_PointXYZRGB(point_cloud)\n",
    "visual = pcl.pcl_visualization.CloudViewing()\n",
    "visual.ShowColorCloud(color_cloud, b'cloud')\n",
    "flag = True\n",
    "while flag:\n",
    "    flag != visual.WasStopped()"
   ],
   "metadata": {
    "collapsed": false
   }
  },
  {
   "cell_type": "markdown",
   "source": [
    "## OPV2V: Pcd"
   ],
   "metadata": {
    "collapsed": false
   }
  },
  {
   "cell_type": "code",
   "execution_count": 3,
   "outputs": [
    {
     "ename": "KeyboardInterrupt",
     "evalue": "",
     "output_type": "error",
     "traceback": [
      "\u001B[0;31m---------------------------------------------------------------------------\u001B[0m",
      "\u001B[0;31mKeyboardInterrupt\u001B[0m                         Traceback (most recent call last)",
      "\u001B[0;32m/tmp/ipykernel_29785/1900701432.py\u001B[0m in \u001B[0;36m<module>\u001B[0;34m\u001B[0m\n\u001B[1;32m     11\u001B[0m \u001B[0mflag\u001B[0m \u001B[0;34m=\u001B[0m \u001B[0;32mTrue\u001B[0m\u001B[0;34m\u001B[0m\u001B[0;34m\u001B[0m\u001B[0m\n\u001B[1;32m     12\u001B[0m \u001B[0;32mwhile\u001B[0m \u001B[0mflag\u001B[0m\u001B[0;34m:\u001B[0m\u001B[0;34m\u001B[0m\u001B[0;34m\u001B[0m\u001B[0m\n\u001B[0;32m---> 13\u001B[0;31m     \u001B[0mflag\u001B[0m \u001B[0;34m!=\u001B[0m \u001B[0mvisual\u001B[0m\u001B[0;34m.\u001B[0m\u001B[0mWasStopped\u001B[0m\u001B[0;34m(\u001B[0m\u001B[0;34m)\u001B[0m\u001B[0;34m\u001B[0m\u001B[0;34m\u001B[0m\u001B[0m\n\u001B[0m",
      "\u001B[0;31mKeyboardInterrupt\u001B[0m: "
     ]
    }
   ],
   "source": [
    "import pcl.pcl_visualization\n",
    "import numpy as np\n",
    "pt = pcl.load('/media/th/T7-1/dataset/OPV2V/train/2021_08_16_22_26_54/641/000069.pcd')\n",
    "points = pt.to_array()\n",
    "x = points[:, 0]\n",
    "points = np.insert(points, 3, x, axis=1)\n",
    "points[:, 3] = 255\n",
    "color_cloud = pcl.PointCloud_PointXYZRGB(points)\n",
    "visual = pcl.pcl_visualization.CloudViewing()\n",
    "\n",
    "# 窗口名\n",
    "visual.ShowColorCloud(color_cloud, b'sta')\n",
    "flag = True\n",
    "while flag:\n",
    "    flag != visual.WasStopped()"
   ],
   "metadata": {
    "collapsed": false
   }
  },
  {
   "cell_type": "markdown",
   "source": [
    "## OPV2V: Bin"
   ],
   "metadata": {
    "collapsed": false
   }
  },
  {
   "cell_type": "code",
   "execution_count": 2,
   "outputs": [
    {
     "ename": "KeyboardInterrupt",
     "evalue": "",
     "output_type": "error",
     "traceback": [
      "\u001B[0;31m---------------------------------------------------------------------------\u001B[0m",
      "\u001B[0;31mKeyboardInterrupt\u001B[0m                         Traceback (most recent call last)",
      "\u001B[0;32m/tmp/ipykernel_32375/3050982409.py\u001B[0m in \u001B[0;36m<module>\u001B[0;34m\u001B[0m\n\u001B[1;32m     30\u001B[0m \u001B[0mflag\u001B[0m \u001B[0;34m=\u001B[0m \u001B[0;32mTrue\u001B[0m\u001B[0;34m\u001B[0m\u001B[0;34m\u001B[0m\u001B[0m\n\u001B[1;32m     31\u001B[0m \u001B[0;32mwhile\u001B[0m \u001B[0mflag\u001B[0m\u001B[0;34m:\u001B[0m\u001B[0;34m\u001B[0m\u001B[0;34m\u001B[0m\u001B[0m\n\u001B[0;32m---> 32\u001B[0;31m     \u001B[0mflag\u001B[0m \u001B[0;34m!=\u001B[0m \u001B[0mvisual\u001B[0m\u001B[0;34m.\u001B[0m\u001B[0mWasStopped\u001B[0m\u001B[0;34m(\u001B[0m\u001B[0;34m)\u001B[0m\u001B[0;34m\u001B[0m\u001B[0;34m\u001B[0m\u001B[0m\n\u001B[0m",
      "\u001B[0;31mKeyboardInterrupt\u001B[0m: "
     ]
    }
   ],
   "source": [
    "import open3d as o3d\n",
    "import numpy as np\n",
    "lidar = []\n",
    "pcd = o3d.io.read_point_cloud('/media/th/T7-1/dataset/OPV2V/train/2021_08_16_22_26_54/641/000069.pcd', format='pcd')\n",
    "points = np.array(pcd.points)\n",
    "for linestr in points:\n",
    "    if len(linestr) == 3:  # only x y z\n",
    "        line_convert = list(map(float, linestr))\n",
    "        [line_convert.append(0) for i in range(2)]\n",
    "        lidar.append(line_convert)\n",
    "    if len(linestr) == 4:  # x,y,z,i\n",
    "        line_convert = list(map(float, linestr))\n",
    "        line_convert.append(0)\n",
    "        lidar.append(line_convert)\n",
    "\n",
    "pl = np.array(lidar, dtype=np.float32).reshape(-1)\n",
    "pl.tofile('/media/th/T7-1/dataset/test.pcd.bin')\n",
    "\n",
    "#point_cloud = np.fromfile(str(\"/media/th/T7-1/dataset/v2x-sim/sweeps/LIDAR_TOP_id_0/scene_1_000006.pcd.bin\"),\n",
    "                         # dtype=np.float32)\n",
    "\n",
    "point_cloud = np.fromfile(str(\"/media/th/T7-1/dataset/test.pcd.bin\"),\n",
    "                             dtype=np.float32).reshape(-1, 5)[:, :4]\n",
    "# print(1)\n",
    "point_cloud[:, 3] = 255\n",
    "import pcl.pcl_visualization\n",
    "color_cloud = pcl.PointCloud_PointXYZRGB(point_cloud)\n",
    "visual = pcl.pcl_visualization.CloudViewing()\n",
    "visual.ShowColorCloud(color_cloud, b'cloud')\n",
    "flag = True\n",
    "while flag:\n",
    "    flag != visual.WasStopped()"
   ],
   "metadata": {
    "collapsed": false
   }
  },
  {
   "cell_type": "markdown",
   "source": [
    "## check generated pipelinev1.py of sweeps"
   ],
   "metadata": {
    "collapsed": false
   }
  },
  {
   "cell_type": "code",
   "execution_count": null,
   "outputs": [],
   "source": [
    "import pcl.pcl_visualization\n",
    "import numpy as np\n",
    "point_cloud = np.fromfile(str(\"/media/th/T7-1/dataset/opv2v-c/sweeps/LIDAR_TOP_id_0/scene_1_000069.pcd.bin\"), dtype=np.float32).reshape(-1, 5)[:, :4]\n",
    "\n",
    "point_cloud[:, 3] = 255\n",
    "color_cloud = pcl.PointCloud_PointXYZRGB(point_cloud)\n",
    "visual = pcl.pcl_visualization.CloudViewing()\n",
    "visual.ShowColorCloud(color_cloud, b'cloud')\n",
    "flag = True\n",
    "while flag:\n",
    "    flag != visual.WasStopped()"
   ],
   "metadata": {
    "collapsed": false
   }
  }
 ],
 "metadata": {
  "kernelspec": {
   "display_name": "Python 3",
   "language": "python",
   "name": "python3"
  },
  "language_info": {
   "codemirror_mode": {
    "name": "ipython",
    "version": 2
   },
   "file_extension": ".py",
   "mimetype": "text/x-python",
   "name": "python",
   "nbconvert_exporter": "python",
   "pygments_lexer": "ipython2",
   "version": "2.7.6"
  }
 },
 "nbformat": 4,
 "nbformat_minor": 0
}
